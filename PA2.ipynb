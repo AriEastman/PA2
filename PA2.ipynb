{
 "cells": [
  {
   "cell_type": "markdown",
   "id": "899cde9f",
   "metadata": {},
   "source": [
    "* Programming Assignment 2 \n",
    "* Ari G. Eastman\n",
    "* CS150 \n",
    "* Computer Programming for the Liberal Arts \n",
    "* Fall 2023\n",
    "# PA2\n",
    "## TASK 1: PERSONAL INFORMATION"
   ]
  },
  {
   "cell_type": "markdown",
   "id": "8477c7c3",
   "metadata": {},
   "source": [
    "### A. Create variables to store the following information about yourself:"
   ]
  },
  {
   "cell_type": "code",
   "execution_count": 1,
   "id": "9f9cfb51",
   "metadata": {},
   "outputs": [
    {
     "name": "stdout",
     "output_type": "stream",
     "text": [
      "Ari\n"
     ]
    }
   ],
   "source": [
    "Name= \"Ari\"\n",
    "Age= 19\n",
    "Height= 172.72\n",
    "Color= \"Orange\"\n",
    "print(Name)"
   ]
  },
  {
   "cell_type": "markdown",
   "id": "d3c46ea2",
   "metadata": {},
   "source": [
    "### Print a message that includes all of the above information, e.g., \n",
    "* \"My name is [name], I am [age] years old, I am [height] cm tall, and my favorite color is [color].\""
   ]
  },
  {
   "cell_type": "code",
   "execution_count": 2,
   "id": "fccb1906",
   "metadata": {},
   "outputs": [
    {
     "name": "stdout",
     "output_type": "stream",
     "text": [
      "Hello, My name is Ari, I am 19 years old. I am about 172.72 cm tall and my favorite color is Orange.\n"
     ]
    }
   ],
   "source": [
    "print(f\"Hello, My name is {Name}, I am {Age} years old. I am about {Height} cm tall and my favorite color is {Color}.\")"
   ]
  },
  {
   "cell_type": "markdown",
   "id": "d596d020",
   "metadata": {},
   "source": [
    "## TASK 2: TEMPERATURE CONVERSION"
   ]
  },
  {
   "cell_type": "markdown",
   "id": "f3b7c9ff",
   "metadata": {},
   "source": [
    "### A. Create a variable celsius_temp and assign a temperature in Celsius to it."
   ]
  },
  {
   "cell_type": "code",
   "execution_count": 3,
   "id": "0e1d9d61",
   "metadata": {},
   "outputs": [],
   "source": [
    "celsius_temp= 24"
   ]
  },
  {
   "cell_type": "markdown",
   "id": "b1ed9873",
   "metadata": {},
   "source": [
    "### B. Convert the Celsius temperature to Fahrenheit"
   ]
  },
  {
   "cell_type": "code",
   "execution_count": 26,
   "id": "61814c8d",
   "metadata": {},
   "outputs": [
    {
     "name": "stdout",
     "output_type": "stream",
     "text": [
      "{75.2}\n"
     ]
    }
   ],
   "source": [
    "farenheit_temp= {celsius_temp * 1.8 + 32}\n",
    "print(farenheit_temp)"
   ]
  },
  {
   "cell_type": "markdown",
   "id": "5867dccd",
   "metadata": {},
   "source": [
    "### Print a message that includes both the Celsius and Fahrenheit temperatures, e.g., \"The temperature is [Celsius]°C, which is [Fahrenheit]°F.\""
   ]
  },
  {
   "cell_type": "code",
   "execution_count": 4,
   "id": "3da685f0",
   "metadata": {},
   "outputs": [
    {
     "name": "stdout",
     "output_type": "stream",
     "text": [
      "The Temprature is 24°C, which is 75.2°F\n"
     ]
    }
   ],
   "source": [
    "print(f\"The Temprature is {celsius_temp}°C, which is {fahrenheit_temp}°F\")"
   ]
  },
  {
   "cell_type": "markdown",
   "id": "bd8dcd78",
   "metadata": {},
   "source": [
    "## TASK 3: SIMPLE CALCULATOR"
   ]
  },
  {
   "cell_type": "markdown",
   "id": "928be8ab",
   "metadata": {},
   "source": [
    "### A. Create variables num1 and num2 and assign them numeric values."
   ]
  },
  {
   "cell_type": "code",
   "execution_count": 5,
   "id": "04aabcf2",
   "metadata": {},
   "outputs": [],
   "source": [
    "num1= 9\n",
    "num2= 10"
   ]
  },
  {
   "cell_type": "markdown",
   "id": "0884afa0",
   "metadata": {},
   "source": [
    "### B. Perform the following operations and print the results: \n",
    "* a. Addition of num1 and num2 \n",
    "* b. Subtraction of num1 from num2\n",
    "* c. Multiplication of num1 and num2 \n",
    "* d. Division of num1 by num2"
   ]
  },
  {
   "cell_type": "code",
   "execution_count": 6,
   "id": "33fd9098",
   "metadata": {},
   "outputs": [
    {
     "name": "stdout",
     "output_type": "stream",
     "text": [
      "The addition of 9 and 10 is 19\n"
     ]
    }
   ],
   "source": [
    "# ADDITION\n",
    "result= num1 + num2\n",
    "print(f\"The addition of 9 and 10 is {result}\")"
   ]
  },
  {
   "cell_type": "code",
   "execution_count": 27,
   "id": "e39f6d7e",
   "metadata": {},
   "outputs": [
    {
     "name": "stdout",
     "output_type": "stream",
     "text": [
      "The subtraction of 9 and 10 is -1\n"
     ]
    }
   ],
   "source": [
    "# SUBTRACTION\n",
    "result= num1 - num2\n",
    "print(f\"The subtraction of 9 and 10 is {result}\")"
   ]
  },
  {
   "cell_type": "code",
   "execution_count": 8,
   "id": "50953142",
   "metadata": {},
   "outputs": [
    {
     "name": "stdout",
     "output_type": "stream",
     "text": [
      "The multiplication of 9 and 10 is 90\n"
     ]
    }
   ],
   "source": [
    "# MULTIPLICATION\n",
    "result= num1 * num2\n",
    "print(f\"The multiplication of 9 and 10 is {result}\")"
   ]
  },
  {
   "cell_type": "code",
   "execution_count": 9,
   "id": "7868d512",
   "metadata": {},
   "outputs": [
    {
     "name": "stdout",
     "output_type": "stream",
     "text": [
      "The division of 9 and 10 is 0.9\n"
     ]
    }
   ],
   "source": [
    "# DIVISION\n",
    "result= num1 / num2\n",
    "print(f\"The division of 9 and 10 is {result}\")"
   ]
  },
  {
   "cell_type": "markdown",
   "id": "658523ce",
   "metadata": {},
   "source": [
    "## TASK 4: STRING MANIPULATION"
   ]
  },
  {
   "cell_type": "markdown",
   "id": "d4837c9e",
   "metadata": {},
   "source": [
    "### A. Create a variable quote and assign a famous quote to it."
   ]
  },
  {
   "cell_type": "code",
   "execution_count": 10,
   "id": "e0cfe20a",
   "metadata": {},
   "outputs": [
    {
     "name": "stdout",
     "output_type": "stream",
     "text": [
      "Gentleness clears the soul, love cleans the mind and makes it free\n"
     ]
    }
   ],
   "source": [
    "# DAVID BOWIE FAMOUS QUOTE\n",
    "message= \"Gentleness clears the soul, love cleans the mind and makes it free\"\n",
    "print(message)"
   ]
  },
  {
   "cell_type": "markdown",
   "id": "f0915eab",
   "metadata": {},
   "source": [
    "### B. Print the length of the quote."
   ]
  },
  {
   "cell_type": "code",
   "execution_count": 11,
   "id": "e991296d",
   "metadata": {},
   "outputs": [
    {
     "data": {
      "text/plain": [
       "66"
      ]
     },
     "execution_count": 11,
     "metadata": {},
     "output_type": "execute_result"
    }
   ],
   "source": [
    "# LENGTH OF QUOTE\n",
    "len(message)"
   ]
  },
  {
   "cell_type": "markdown",
   "id": "5fb2f7a2",
   "metadata": {},
   "source": [
    "### C. Print the quote in uppercase and lowercase."
   ]
  },
  {
   "cell_type": "code",
   "execution_count": 12,
   "id": "a01c97cf",
   "metadata": {},
   "outputs": [
    {
     "name": "stdout",
     "output_type": "stream",
     "text": [
      "Lower Case Famous Quote: gentleness clears the soul, love cleans the mind and makes it free\n"
     ]
    }
   ],
   "source": [
    "# LOWERCASE\n",
    "print(f\"Lower Case Famous Quote:\" ,message.lower())"
   ]
  },
  {
   "cell_type": "code",
   "execution_count": 13,
   "id": "a8dadcc7",
   "metadata": {},
   "outputs": [
    {
     "name": "stdout",
     "output_type": "stream",
     "text": [
      "Upper Case Famous Quote: GENTLENESS CLEARS THE SOUL, LOVE CLEANS THE MIND AND MAKES IT FREE\n"
     ]
    }
   ],
   "source": [
    "# UPPERCASE\n",
    "print(f\"Upper Case Famous Quote:\" ,message.upper())"
   ]
  },
  {
   "cell_type": "markdown",
   "id": "e1f1eeb6",
   "metadata": {},
   "source": [
    "### D. Print the quote with any leading/trailing whitespace removed."
   ]
  },
  {
   "cell_type": "code",
   "execution_count": 14,
   "id": "721d3c03",
   "metadata": {},
   "outputs": [
    {
     "data": {
      "text/plain": [
       "'Gentleness clears the soul, love cleans the mind and makes it free.'"
      ]
     },
     "execution_count": 14,
     "metadata": {},
     "output_type": "execute_result"
    }
   ],
   "source": [
    "#WHITESPACE REMOVED\n",
    "message_new= \"      Gentleness clears the soul, love cleans the mind and makes it free.          \"\n",
    "message_new.strip()"
   ]
  },
  {
   "cell_type": "markdown",
   "id": "5d38f2fe",
   "metadata": {},
   "source": [
    "### E. Print the quote split into a list of words."
   ]
  },
  {
   "cell_type": "code",
   "execution_count": 15,
   "id": "dd437e5f",
   "metadata": {},
   "outputs": [
    {
     "data": {
      "text/plain": [
       "['G',\n",
       " 'e',\n",
       " 'n',\n",
       " 't',\n",
       " 'l',\n",
       " 'e',\n",
       " 'n',\n",
       " 'e',\n",
       " 's',\n",
       " 's',\n",
       " ' ',\n",
       " 'c',\n",
       " 'l',\n",
       " 'e',\n",
       " 'a',\n",
       " 'r',\n",
       " 's',\n",
       " ' ',\n",
       " 't',\n",
       " 'h',\n",
       " 'e',\n",
       " ' ',\n",
       " 's',\n",
       " 'o',\n",
       " 'u',\n",
       " 'l',\n",
       " ',',\n",
       " ' ',\n",
       " 'l',\n",
       " 'o',\n",
       " 'v',\n",
       " 'e',\n",
       " ' ',\n",
       " 'c',\n",
       " 'l',\n",
       " 'e',\n",
       " 'a',\n",
       " 'n',\n",
       " 's',\n",
       " ' ',\n",
       " 't',\n",
       " 'h',\n",
       " 'e',\n",
       " ' ',\n",
       " 'm',\n",
       " 'i',\n",
       " 'n',\n",
       " 'd',\n",
       " ' ',\n",
       " 'a',\n",
       " 'n',\n",
       " 'd',\n",
       " ' ',\n",
       " 'm',\n",
       " 'a',\n",
       " 'k',\n",
       " 'e',\n",
       " 's',\n",
       " ' ',\n",
       " 'i',\n",
       " 't',\n",
       " ' ',\n",
       " 'f',\n",
       " 'r',\n",
       " 'e',\n",
       " 'e']"
      ]
     },
     "execution_count": 15,
     "metadata": {},
     "output_type": "execute_result"
    }
   ],
   "source": [
    "#QUOTE MADE INTO LIST\n",
    "list(message)"
   ]
  },
  {
   "cell_type": "markdown",
   "id": "f65e4e0d",
   "metadata": {},
   "source": [
    "## TASK 5: USER INPUT AND INTERGER OPERATIONS"
   ]
  },
  {
   "cell_type": "markdown",
   "id": "3b7a5309",
   "metadata": {},
   "source": [
    "### 1. Prompt the user to enter two integer numbers."
   ]
  },
  {
   "cell_type": "code",
   "execution_count": 21,
   "id": "2b0b887c",
   "metadata": {},
   "outputs": [
    {
     "name": "stdout",
     "output_type": "stream",
     "text": [
      "Enter First Interger: 10\n",
      "Enter Second Interger: 20\n",
      "The First Integer is 10, The second Interger Is 20.0\n"
     ]
    }
   ],
   "source": [
    "number1= int(input(\"Enter First Interger: \"))\n",
    "number2= float(input(\"Enter Second Interger: \"))\n",
    "print(f\"The First Integer is {number1}, The second Interger Is {number2}\")"
   ]
  },
  {
   "cell_type": "markdown",
   "id": "9e30c5f0",
   "metadata": {},
   "source": [
    "### 2. Calculate and print the sum, difference, product, and quotient (integer division) of the two numbers."
   ]
  },
  {
   "cell_type": "code",
   "execution_count": 20,
   "id": "54c24854",
   "metadata": {},
   "outputs": [
    {
     "name": "stdout",
     "output_type": "stream",
     "text": [
      "Enter First Interger: 9\n",
      "Enter Second Interger: 10\n",
      "The First Integer is 9, The second Interger Is 10.0\n",
      "Sum Result: 19.0\n",
      "Difference Result: -1.0\n",
      "Product Result: 90.0\n",
      "Quotient Result: 0.9\n"
     ]
    }
   ],
   "source": [
    "number1= int(input(\"Enter First Interger: \"))\n",
    "number2= float(input(\"Enter Second Interger: \"))\n",
    "print(f\"The First Integer is {number1}, The second Interger Is {number2}\")\n",
    "print(f\"Sum Result: {number1+number2}\")\n",
    "print(f\"Difference Result: {number1-number2}\")\n",
    "print(f\"Product Result: {number1*number2}\")\n",
    "print(f\"Quotient Result: {number1/number2}\")"
   ]
  },
  {
   "cell_type": "markdown",
   "id": "c19541d7",
   "metadata": {},
   "source": [
    "### 4. Include a Markdown header comment with the name of the assignment, author, version, and semester information. Create markdown for each task and state clearly the question\n",
    "### 5. Using the instructions provided by GitHub, create a local git repository, and push your .ipynb file to it."
   ]
  },
  {
   "cell_type": "markdown",
   "id": "77139ede",
   "metadata": {},
   "source": [
    "#### Submission: Paste a link to your GitHub repository in the area provided for this assignment and submit it by the deadline."
   ]
  }
 ],
 "metadata": {
  "kernelspec": {
   "display_name": "Python 3 (ipykernel)",
   "language": "python",
   "name": "python3"
  },
  "language_info": {
   "codemirror_mode": {
    "name": "ipython",
    "version": 3
   },
   "file_extension": ".py",
   "mimetype": "text/x-python",
   "name": "python",
   "nbconvert_exporter": "python",
   "pygments_lexer": "ipython3",
   "version": "3.11.4"
  }
 },
 "nbformat": 4,
 "nbformat_minor": 5
}
